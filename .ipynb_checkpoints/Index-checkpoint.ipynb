{
 "cells": [
  {
   "cell_type": "markdown",
   "id": "0c1eb793-3c5a-4928-b3a1-ca88612b5954",
   "metadata": {},
   "source": [
    "# Spotify Reccomender System"
   ]
  },
  {
   "cell_type": "markdown",
   "id": "050a8966-bcec-4a5f-ae0e-45022c1aa8f8",
   "metadata": {},
   "source": [
    "# Businesss Understanding "
   ]
  },
  {
   "cell_type": "code",
   "execution_count": null,
   "id": "b51456c5-a2d2-4c07-ad11-8fecb1d18d04",
   "metadata": {},
   "outputs": [],
   "source": []
  },
  {
   "cell_type": "markdown",
   "id": "5503127a-8ca6-4e93-a1fa-f7705b14bf29",
   "metadata": {},
   "source": [
    "# Objectives"
   ]
  },
  {
   "cell_type": "code",
   "execution_count": null,
   "id": "e8b30f15-0567-46fb-8b62-5516cbac723e",
   "metadata": {},
   "outputs": [],
   "source": []
  },
  {
   "cell_type": "markdown",
   "id": "e4f3fa55-7b43-453d-92c2-08512439e3f3",
   "metadata": {},
   "source": [
    "# Data Understanding "
   ]
  },
  {
   "cell_type": "code",
   "execution_count": null,
   "id": "e88d29d7-828c-46e1-ac6c-06a7f5c2a512",
   "metadata": {},
   "outputs": [],
   "source": []
  },
  {
   "cell_type": "markdown",
   "id": "6ab5f7bb-13c7-41da-960b-a1b37bd9fc68",
   "metadata": {},
   "source": [
    "# Data Preprocessing"
   ]
  },
  {
   "cell_type": "code",
   "execution_count": null,
   "id": "cfe39529-f571-445e-878c-ec2bef804e84",
   "metadata": {},
   "outputs": [],
   "source": []
  },
  {
   "cell_type": "markdown",
   "id": "37dc94c6-d29b-4f69-b370-7bddef4e7c2b",
   "metadata": {},
   "source": [
    "# EDA"
   ]
  },
  {
   "cell_type": "markdown",
   "id": "a477d880-f9c7-493f-91cd-475df0aa7ae8",
   "metadata": {},
   "source": [
    "# Modeling"
   ]
  },
  {
   "cell_type": "markdown",
   "id": "df61edc6-2684-4eea-b1ed-0526f07cdcce",
   "metadata": {},
   "source": [
    "# Evaluation"
   ]
  },
  {
   "cell_type": "markdown",
   "id": "bafbc052-6c87-469f-8975-2eb86d545baa",
   "metadata": {},
   "source": [
    "# Limitations"
   ]
  },
  {
   "cell_type": "markdown",
   "id": "d41fd955-959e-4275-9494-ef57b3eb96b3",
   "metadata": {},
   "source": [
    "# Conclusion"
   ]
  },
  {
   "cell_type": "markdown",
   "id": "608b27e3-b195-4da5-9aaa-bea2d0ff6b14",
   "metadata": {},
   "source": [
    "# Reccomendations"
   ]
  }
 ],
 "metadata": {
  "kernelspec": {
   "display_name": "Python 3 (ipykernel)",
   "language": "python",
   "name": "python3"
  },
  "language_info": {
   "codemirror_mode": {
    "name": "ipython",
    "version": 3
   },
   "file_extension": ".py",
   "mimetype": "text/x-python",
   "name": "python",
   "nbconvert_exporter": "python",
   "pygments_lexer": "ipython3",
   "version": "3.12.4"
  }
 },
 "nbformat": 4,
 "nbformat_minor": 5
}
